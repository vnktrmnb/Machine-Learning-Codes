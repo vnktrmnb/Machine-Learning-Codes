{
  "nbformat": 4,
  "nbformat_minor": 0,
  "metadata": {
    "colab": {
      "provenance": []
    },
    "kernelspec": {
      "name": "python3",
      "display_name": "Python 3"
    },
    "language_info": {
      "name": "python"
    }
  },
  "cells": [
    {
      "cell_type": "markdown",
      "source": [
        "Manipulating Data in Pandas DataFrame: Insertion, Deletion, and Update Operations"
      ],
      "metadata": {
        "id": "k3zHNFOrYSXu"
      }
    },
    {
      "cell_type": "markdown",
      "source": [
        "Insert Operation:\n",
        "\n",
        "To insert data into a DataFrame, you can use the loc[] or iloc[] accessor methods."
      ],
      "metadata": {
        "id": "PZUpa1AiXv47"
      }
    },
    {
      "cell_type": "code",
      "source": [
        "import pandas as pd\n",
        "\n",
        "# Create a DataFrame\n",
        "df = pd.DataFrame({'A': [1, 2, 3], 'B': [4, 5, 6]})\n",
        "\n",
        "# Insert a new row\n",
        "df.loc[len(df)] = [7, 8]\n",
        "\n",
        "print(df)"
      ],
      "metadata": {
        "colab": {
          "base_uri": "https://localhost:8080/"
        },
        "id": "9ad_S91bXx7i",
        "outputId": "b9b0724b-2d90-4259-c2cf-68bee2b827f6"
      },
      "execution_count": 1,
      "outputs": [
        {
          "output_type": "stream",
          "name": "stdout",
          "text": [
            "   A  B\n",
            "0  1  4\n",
            "1  2  5\n",
            "2  3  6\n",
            "3  7  8\n"
          ]
        }
      ]
    },
    {
      "cell_type": "markdown",
      "source": [
        "Delete Operation:\n",
        "\n",
        "To delete rows or columns from a DataFrame, you can use the drop() method."
      ],
      "metadata": {
        "id": "t9K8Pu1oYF9t"
      }
    },
    {
      "cell_type": "code",
      "source": [
        "# Delete a row by index\n",
        "df = df.drop(0)\n",
        "\n",
        "# Delete a column by name\n",
        "df = df.drop('B', axis=1)\n",
        "\n",
        "print(df)"
      ],
      "metadata": {
        "colab": {
          "base_uri": "https://localhost:8080/"
        },
        "id": "im1szkqSYIFU",
        "outputId": "1b422942-18b4-42f6-82ae-9f07b9e49588"
      },
      "execution_count": 2,
      "outputs": [
        {
          "output_type": "stream",
          "name": "stdout",
          "text": [
            "   A\n",
            "1  2\n",
            "2  3\n",
            "3  7\n"
          ]
        }
      ]
    },
    {
      "cell_type": "markdown",
      "source": [
        "Update Operation:\n",
        "\n",
        "To update values in a DataFrame, you can use the assignment operator or the loc[] accessor method."
      ],
      "metadata": {
        "id": "zgEPio04YKcr"
      }
    },
    {
      "cell_type": "code",
      "source": [
        "# Update a single value\n",
        "df.loc[0, 'A'] = 10\n",
        "\n",
        "# Update multiple values using boolean indexing\n",
        "df.loc[df['A'] > 2, 'B'] = 100\n",
        "\n",
        "print(df)"
      ],
      "metadata": {
        "colab": {
          "base_uri": "https://localhost:8080/"
        },
        "id": "Z0nU8Nj5YNgz",
        "outputId": "ed2e777f-1698-4bca-a54f-79fec1e2dd65"
      },
      "execution_count": 3,
      "outputs": [
        {
          "output_type": "stream",
          "name": "stdout",
          "text": [
            "      A      B\n",
            "1   2.0    NaN\n",
            "2   3.0  100.0\n",
            "3   7.0  100.0\n",
            "0  10.0  100.0\n"
          ]
        }
      ]
    }
  ]
}