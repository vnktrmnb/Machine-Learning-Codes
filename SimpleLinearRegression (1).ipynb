{
  "nbformat": 4,
  "nbformat_minor": 0,
  "metadata": {
    "colab": {
      "provenance": []
    },
    "kernelspec": {
      "name": "python3",
      "display_name": "Python 3"
    },
    "language_info": {
      "name": "python"
    }
  },
  "cells": [
    {
      "cell_type": "markdown",
      "source": [
        "Import all the necessary Libraries."
      ],
      "metadata": {
        "id": "SdvrQM41EStu"
      }
    },
    {
      "cell_type": "code",
      "execution_count": null,
      "metadata": {
        "id": "aepRP2aoEQgy"
      },
      "outputs": [],
      "source": [
        "import numpy as np\n",
        "import matplotlib.pyplot as plt\n",
        "\n",
        "from sklearn.linear_model import LinearRegression\n",
        "from sklearn.metrics import mean_squared_error, r2_score\n",
        "import statsmodels.api as sm"
      ]
    },
    {
      "cell_type": "markdown",
      "source": [
        "Generate the data. Calculate xmean, ymean, Sxx, Sxy to find the value of slope and intercept of regression line."
      ],
      "metadata": {
        "id": "HEB7XgEwEdRt"
      }
    },
    {
      "cell_type": "code",
      "source": [
        "x = np.array([1,2,4,3,5])\n",
        "y = np.array([1,3,3,2,5])\n",
        "n = np.size(x)\n",
        "\n",
        "\n",
        "\n",
        "\n",
        "x_mean = np.mean(x)\n",
        "y_mean = np.mean(y)\n",
        "x_mean,y_mean\n",
        "\n",
        "Sxy = np.sum(x*y)- n*x_mean*y_mean\n",
        "Sxx = np.sum(x*x)-n*x_mean*x_mean\n",
        "\n",
        "b1 = Sxy/Sxx\n",
        "b0 = y_mean-b1*x_mean\n",
        "print('slope b1 is', b1)\n",
        "print('intercept b0 is', b0)\n",
        "\n",
        "plt.scatter(x,y)\n",
        "plt.xlabel('Independent variable X')\n",
        "plt.ylabel('Dependent variable y')\n"
      ],
      "metadata": {
        "colab": {
          "base_uri": "https://localhost:8080/",
          "height": 348
        },
        "id": "gWw75g5KEgBD",
        "outputId": "9923336d-c036-498a-9fbf-cdf0027f0015"
      },
      "execution_count": null,
      "outputs": [
        {
          "output_type": "stream",
          "name": "stdout",
          "text": [
            "hi [25.]\n",
            "slope b1 is 0.8\n",
            "intercept b0 is 0.39999999999999947\n"
          ]
        },
        {
          "output_type": "execute_result",
          "data": {
            "text/plain": [
              "Text(0, 0.5, 'Dependent variable y')"
            ]
          },
          "metadata": {},
          "execution_count": 8
        },
        {
          "output_type": "display_data",
          "data": {
            "text/plain": [
              "<Figure size 432x288 with 1 Axes>"
            ],
            "image/png": "[encoded data removed]"
          },
          "metadata": {
            "needs_background": "light"
          }
        }
      ]
    },
    {
      "cell_type": "markdown",
      "source": [
        "Plot the given data points and fit the regression line."
      ],
      "metadata": {
        "id": "eKjxs3JFEkQi"
      }
    },
    {
      "cell_type": "code",
      "source": [
        "y_pred = b1 * x + b0\n",
        "\n",
        "plt.scatter(x, y, color = 'red')\n",
        "plt.plot(x, y_pred, color = 'green')\n",
        "plt.xlabel('X')\n",
        "plt.ylabel('y')"
      ],
      "metadata": {
        "colab": {
          "base_uri": "https://localhost:8080/",
          "height": 296
        },
        "id": "cUwQXpSwEjhy",
        "outputId": "68ec1347-e9c1-4b77-9042-2151d96065a8"
      },
      "execution_count": null,
      "outputs": [
        {
          "output_type": "execute_result",
          "data": {
            "text/plain": [
              "Text(0, 0.5, 'y')"
            ]
          },
          "metadata": {},
          "execution_count": 4
        },
        {
          "output_type": "display_data",
          "data": {
            "text/plain": [
              "<Figure size 432x288 with 1 Axes>"
            ],
            "image/png": "[encoded data removed]"
          },
          "metadata": {
            "needs_background": "light"
          }
        }
      ]
    },
    {
      "cell_type": "markdown",
      "source": [
        "Analyze the performance of the model by calculating mean squared error and R2"
      ],
      "metadata": {
        "id": "aXNfW36DEo0y"
      }
    },
    {
      "cell_type": "code",
      "source": [
        "error = y - y_pred\n",
        "se = np.sum(error**2)\n",
        "print('squared error is', se)\n",
        "\n",
        "mse = se/n\n",
        "print('mean squared error is', mse)\n",
        "\n",
        "rmse = np.sqrt(mse)\n",
        "print('root mean square error is', rmse)\n",
        "\n",
        "SSt = np.sum((y - y_mean)**2)\n",
        "R2 = 1- (se/SSt)\n",
        "print('R square is', R2)\n"
      ],
      "metadata": {
        "colab": {
          "base_uri": "https://localhost:8080/"
        },
        "id": "rHROJEU2ExWj",
        "outputId": "f881feb8-9493-4d2f-c6b8-5b6b4f755f81"
      },
      "execution_count": null,
      "outputs": [
        {
          "output_type": "stream",
          "name": "stdout",
          "text": [
            "squared error is 2.400000000000001\n",
            "mean squared error is 0.48000000000000015\n",
            "root mean square error is 0.692820323027551\n",
            "R square is 0.7272727272727272\n"
          ]
        }
      ]
    },
    {
      "cell_type": "markdown",
      "source": [
        "Use scikit library"
      ],
      "metadata": {
        "id": "BN_JXsuOE6Aj"
      }
    },
    {
      "cell_type": "code",
      "source": [
        "x = x.reshape(-1,1)\n",
        "regression_model = LinearRegression()\n",
        "\n",
        "# Fit the data(train the model)\n",
        "regression_model.fit(x, y)\n",
        "\n",
        "# Predict\n",
        "y_predicted = regression_model.predict(x)\n",
        "\n",
        "# model evaluation\n",
        "mse=mean_squared_error(y,y_predicted)\n",
        "\n",
        "rmse = np.sqrt(mean_squared_error(y, y_predicted))\n",
        "r2 = r2_score(y, y_predicted)\n",
        "\n",
        "# printing values\n",
        "print('Slope:' ,regression_model.coef_)\n",
        "print('Intercept:', regression_model.intercept_)\n",
        "print('MSE:',mse)\n",
        "print('Root mean squared error: ', rmse)\n",
        "print('R2 score: ', r2)\n"
      ],
      "metadata": {
        "colab": {
          "base_uri": "https://localhost:8080/"
        },
        "id": "lzVjjOX9EvWF",
        "outputId": "543602c7-385c-4847-dd20-4a2caff48e52"
      },
      "execution_count": null,
      "outputs": [
        {
          "output_type": "stream",
          "name": "stdout",
          "text": [
            "Slope: [0.8]\n",
            "Intercept: 0.3999999999999999\n",
            "MSE: 0.4800000000000001\n",
            "Root mean squared error:  0.692820323027551\n",
            "R2 score:  0.7272727272727273\n"
          ]
        }
      ]
    }
  ]
}