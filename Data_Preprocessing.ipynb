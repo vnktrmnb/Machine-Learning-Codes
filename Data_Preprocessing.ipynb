{
  "nbformat": 4,
  "nbformat_minor": 0,
  "metadata": {
    "colab": {
      "provenance": []
    },
    "kernelspec": {
      "name": "python3",
      "display_name": "Python 3"
    },
    "language_info": {
      "name": "python"
    }
  },
  "cells": [
    {
      "cell_type": "markdown",
      "source": [
        "Data Preprocessing in DataFrame using Pandas and Scikit-Learn"
      ],
      "metadata": {
        "id": "-W3eb4HrVk6G"
      }
    },
    {
      "cell_type": "code",
      "execution_count": 1,
      "metadata": {
        "id": "TxBDF50QVjnp"
      },
      "outputs": [],
      "source": [
        "import pandas as pd\n",
        "\n"
      ]
    },
    {
      "cell_type": "code",
      "source": [
        "# Sample DataFrame\n",
        "data = {\n",
        "    'Name': ['John', 'Anna', 'Peter', 'Linda', 'John'],\n",
        "    'Age': [24, 35, None, 28, 24],\n",
        "    'Gender': ['M', 'F', 'M', 'F', 'M'],\n",
        "    'Salary': [50000, 60000, 75000, None, 50000]\n",
        "}\n",
        "\n"
      ],
      "metadata": {
        "id": "nHeif_eRVo2T"
      },
      "execution_count": 2,
      "outputs": []
    },
    {
      "cell_type": "code",
      "source": [
        "df = pd.DataFrame(data)\n",
        "\n"
      ],
      "metadata": {
        "id": "6251GSdvVqxD"
      },
      "execution_count": 3,
      "outputs": []
    },
    {
      "cell_type": "code",
      "source": [
        "# Handling missing values\n",
        "# Drop rows with any missing values\n",
        "df.dropna(inplace=True)\n",
        "\n",
        "\n"
      ],
      "metadata": {
        "id": "3hB8z_rgVvnr"
      },
      "execution_count": 4,
      "outputs": []
    },
    {
      "cell_type": "code",
      "source": [
        "# Handling duplicates\n",
        "df.drop_duplicates(inplace=True)\n",
        "\n"
      ],
      "metadata": {
        "id": "zF0Sm-VCVx57"
      },
      "execution_count": 5,
      "outputs": []
    },
    {
      "cell_type": "code",
      "source": [
        "# Encoding categorical variables\n",
        "# Convert Gender to numerical using one-hot encoding\n",
        "df = pd.get_dummies(df, columns=['Gender'], drop_first=True)\n",
        "\n"
      ],
      "metadata": {
        "id": "jjkspYWSVzEb"
      },
      "execution_count": 6,
      "outputs": []
    },
    {
      "cell_type": "code",
      "source": [
        "# Scaling numerical features (e.g., using Min-Max scaling)\n",
        "from sklearn.preprocessing import MinMaxScaler\n",
        "\n"
      ],
      "metadata": {
        "id": "Mcd2twVCV0Cj"
      },
      "execution_count": 7,
      "outputs": []
    },
    {
      "cell_type": "code",
      "source": [
        "scaler = MinMaxScaler()\n",
        "df[['Age', 'Salary']] = scaler.fit_transform(df[['Age', 'Salary']])\n",
        "\n"
      ],
      "metadata": {
        "id": "qT5KDDM4V1Ha"
      },
      "execution_count": 8,
      "outputs": []
    },
    {
      "cell_type": "code",
      "source": [
        "# Display the preprocessed DataFrame\n",
        "print(\"Preprocessed DataFrame:\")\n",
        "print(df)"
      ],
      "metadata": {
        "colab": {
          "base_uri": "https://localhost:8080/"
        },
        "id": "5-0pl7lSV2Gz",
        "outputId": "fa374b71-acab-4179-8f7f-6d004bc2f998"
      },
      "execution_count": 9,
      "outputs": [
        {
          "output_type": "stream",
          "name": "stdout",
          "text": [
            "Preprocessed DataFrame:\n",
            "   Name  Age  Salary  Gender_M\n",
            "0  John  0.0     0.0         1\n",
            "1  Anna  1.0     1.0         0\n"
          ]
        }
      ]
    }
  ]
}