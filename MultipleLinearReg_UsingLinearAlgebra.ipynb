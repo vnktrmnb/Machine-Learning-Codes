{
  "nbformat": 4,
  "nbformat_minor": 0,
  "metadata": {
    "colab": {
      "provenance": []
    },
    "kernelspec": {
      "name": "python3",
      "display_name": "Python 3"
    },
    "language_info": {
      "name": "python"
    }
  },
  "cells": [
    {
      "cell_type": "code",
      "source": [
        "import numpy as np"
      ],
      "metadata": {
        "id": "1_CZHnkasqfq"
      },
      "execution_count": null,
      "outputs": []
    },
    {
      "cell_type": "code",
      "execution_count": null,
      "metadata": {
        "colab": {
          "base_uri": "https://localhost:8080/"
        },
        "id": "BD3i6ucFXtEK",
        "outputId": "a95fc0f6-ba8d-4f6a-9c6d-4d531eedcc08"
      },
      "outputs": [
        {
          "output_type": "stream",
          "name": "stdout",
          "text": [
            "(5, 3)\n"
          ]
        }
      ],
      "source": [
        "# Assume you have independent variables X and a dependent variable y\n",
        "\n",
        "X=np.array([[1,110,40],[1,120,30],[1,100,20],[1,90,0],[1,80,10]])\n",
        "y=np.array([100,90,80,70,60])\n",
        "print(X.shape)\n",
        "\n"
      ]
    },
    {
      "cell_type": "code",
      "source": [
        "XT=X.transpose()\n",
        "XTX = np.matmul(XT,X)\n",
        "XTXI = np.linalg.inv(XTX)\n",
        "XTY = np.matmul(X.transpose(), y)\n",
        "#  matrix has Regression Coeffcients\n",
        "b = np.matmul(XTXI,XTY)"
      ],
      "metadata": {
        "id": "GKWiol5GYZVy"
      },
      "execution_count": null,
      "outputs": []
    },
    {
      "cell_type": "code",
      "source": [
        "print(b)"
      ],
      "metadata": {
        "colab": {
          "base_uri": "https://localhost:8080/"
        },
        "id": "Lw9zMqwkZOhg",
        "outputId": "f754a544-2962-43d8-c154-09c9890030f6"
      },
      "execution_count": null,
      "outputs": [
        {
          "output_type": "stream",
          "name": "stdout",
          "text": [
            "[20.   0.5  0.5]\n"
          ]
        }
      ]
    },
    {
      "cell_type": "code",
      "source": [
        "y_predicted=np.matmul(X,b)\n",
        "print(y_predicted)"
      ],
      "metadata": {
        "colab": {
          "base_uri": "https://localhost:8080/"
        },
        "id": "LWoMS6NmcD3s",
        "outputId": "a2097636-8fb8-4349-eb95-1cda8fa2ccfe"
      },
      "execution_count": null,
      "outputs": [
        {
          "output_type": "stream",
          "name": "stdout",
          "text": [
            "[95. 95. 80. 65. 65.]\n"
          ]
        }
      ]
    },
    {
      "cell_type": "code",
      "source": [
        "#Error Analysis"
      ],
      "metadata": {
        "id": "gkFUhcYIw5jg"
      },
      "execution_count": null,
      "outputs": []
    },
    {
      "cell_type": "code",
      "source": [
        "n=np.size(y)\n",
        "error=y-y_predicted\n",
        "sse=np.sum(error**2)\n",
        "mse=sse/n\n",
        "rmse=mse**0.5"
      ],
      "metadata": {
        "id": "YQlzhm9BcW0D"
      },
      "execution_count": null,
      "outputs": []
    },
    {
      "cell_type": "code",
      "source": [
        "y_mean=np.mean(y)\n",
        "r2=1-sse/np.sum((y-y_mean)**2)"
      ],
      "metadata": {
        "id": "ElbPiZYUcq3x"
      },
      "execution_count": null,
      "outputs": []
    },
    {
      "cell_type": "code",
      "source": [
        "print(\"RMSE : \",rmse)\n",
        "print(\"R2 : \",r2)"
      ],
      "metadata": {
        "colab": {
          "base_uri": "https://localhost:8080/"
        },
        "id": "P6Fysrt6c4uX",
        "outputId": "cb6dd9f2-77f4-4456-f7e9-dec8518a5a5a"
      },
      "execution_count": null,
      "outputs": [
        {
          "output_type": "stream",
          "name": "stdout",
          "text": [
            "RMSE :  4.472135954999582\n",
            "R2 :  0.8999999999999999\n"
          ]
        }
      ]
    },
    {
      "cell_type": "code",
      "source": [
        "#using scikit"
      ],
      "metadata": {
        "id": "Nyi7L2OOxCUX"
      },
      "execution_count": null,
      "outputs": []
    },
    {
      "cell_type": "code",
      "source": [
        "from sklearn.linear_model import LinearRegression\n",
        "reg = LinearRegression().fit(X, y)\n",
        "print(reg.intercept_,reg.coef_)\n"
      ],
      "metadata": {
        "colab": {
          "base_uri": "https://localhost:8080/"
        },
        "id": "J2ay0_HQa4uZ",
        "outputId": "16df3afd-74c3-49cb-af2e-2033b2c1458c"
      },
      "execution_count": null,
      "outputs": [
        {
          "output_type": "stream",
          "name": "stdout",
          "text": [
            "20.000000000000043 [0.  0.5 0.5]\n"
          ]
        }
      ]
    }
  ]
}